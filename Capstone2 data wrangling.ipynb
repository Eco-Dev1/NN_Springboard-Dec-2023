{
 "cells": [
  {
   "cell_type": "code",
   "execution_count": 7,
   "id": "15d0f686-e3e3-42d9-bd48-f5638fd57660",
   "metadata": {},
   "outputs": [],
   "source": [
    "import pandas as pd\n",
    "import json\n",
    "import numpy as np\n",
    "import requests\n",
    "import matplotlib.pyplot as plt\n",
    "import seaborn as sns"
   ]
  },
  {
   "cell_type": "code",
   "execution_count": null,
   "id": "a06a5c5b-966f-4eea-8833-f077136fa969",
   "metadata": {},
   "outputs": [],
   "source": [
    "# Option 1: Using conda (recommended if you're using Anaconda)\n",
    "!conda update bottleneck -y\n",
    "\n",
    "# Option 2: Using pip (alternative method)\n",
    "!pip install --upgrade bottleneck\n",
    "\n",
    "# After updating, you can verify the installed version\n",
    "import bottleneck\n",
    "print(f\"Bottleneck version: {bottleneck.__version__}\")"
   ]
  },
  {
   "cell_type": "code",
   "execution_count": null,
   "id": "9ec7c6c2-0880-4fe2-9354-cc3f795e415a",
   "metadata": {},
   "outputs": [],
   "source": [
    "#API usage for Our World In Data (OWID) listed at https://docs.owid.io/projects/etl/api/example-usage/#overview\n",
    "!pip install owid-catalog"
   ]
  },
  {
   "cell_type": "code",
   "execution_count": null,
   "id": "7ae681d6-4b76-43e6-beeb-12c2bb9bae96",
   "metadata": {},
   "outputs": [],
   "source": [
    "from owid import catalog"
   ]
  },
  {
   "cell_type": "code",
   "execution_count": null,
   "id": "b3b16f45-6395-4704-88ad-7229b193b37f",
   "metadata": {},
   "outputs": [],
   "source": [
    "# name urls, datasets and dataframes Datasets under consideration are as follows:\n",
    "#1) Share of land covered by forest (forest-area-as-share-of-land-area.csv)\n",
    "#https://ourworldindata.org/grapher/forest-area-as-share-of-land-area\n",
    "\n",
    "#2) Distribution of population by poverty level ( distribution-of-population-between-different-poverty-thresholds-up-to-30-dollars.csv)\n",
    "#https://ourworldindata.org/grapher/distribution-of-population-between-different-poverty-thresholds-up-to-30-dollars\n",
    "\n",
    "#Depending on findings, additional data sets may be used to explore the nature and commerce of the forests under consideration. These include:\n",
    "\n",
    "#3) Planted vs Naturally regenerating forest (forest-area-primary-planted.csv)\n",
    "#https://ourworldindata.org/forest-area \n",
    "#4) Share of Deforestation that is exported. The share of deforestation is driven by the production of goods that are exported to other countries. (share-deforestation-exported.csv)\n",
    "#https://ourworldindata.org/grapher/share-deforestation-exported?time=2005&facet=none\n",
    "\n",
    "#Api instructions as follows:  from owid.catalog import charts\n",
    "\n",
    "# get the data for one chart by URL\n",
    "#df = charts.get_data('https://ourworldindata.org/grapher/life-expectancy')\n",
    "\n",
    "#Use the API instructions to get the dataframes\n",
    "forest_share_df = charts.get_data('https://ourworldindata.org/grapher/forest-area-as-share-of-land-area')\n",
    "poverty_level_df = charts.get_data('https://ourworldindata.org/grapher/distribution-of-population-between-different-poverty-thresholds-up-to-30-dollars')\n",
    "planted_vs_natural_df = charts.get_data('https://ourworldindata.org/forest-area')\n",
    "deforestation_export_df =charts.get_data('https://ourworldindata.org/grapher/share-deforestation-exported?time=2005&facet=none')\n",
    "\n"
   ]
  },
  {
   "cell_type": "code",
   "execution_count": null,
   "id": "1fdd9781-230b-459b-aa94-551e331e7801",
   "metadata": {},
   "outputs": [],
   "source": [
    "print(forest_share_df.head())"
   ]
  },
  {
   "cell_type": "code",
   "execution_count": null,
   "id": "ba0f523c-73fe-4288-82e4-e8a523b592b6",
   "metadata": {},
   "outputs": [],
   "source": [
    "# Inspect the first few rows to understand its structure\n",
    "print(forest_share_df.head())\n",
    "print(poverty_level_df.head())\n",
    "print(planted_vs_natural_df.head())\n",
    "print(deforestation_export_df.head())"
   ]
  },
  {
   "cell_type": "code",
   "execution_count": null,
   "id": "a25707e0-60fb-4080-8e03-b51b1e39b58e",
   "metadata": {},
   "outputs": [],
   "source": []
  }
 ],
 "metadata": {
  "kernelspec": {
   "display_name": "Python [conda env:base] *",
   "language": "python",
   "name": "conda-base-py"
  },
  "language_info": {
   "codemirror_mode": {
    "name": "ipython",
    "version": 3
   },
   "file_extension": ".py",
   "mimetype": "text/x-python",
   "name": "python",
   "nbconvert_exporter": "python",
   "pygments_lexer": "ipython3",
   "version": "3.11.5"
  }
 },
 "nbformat": 4,
 "nbformat_minor": 5
}
