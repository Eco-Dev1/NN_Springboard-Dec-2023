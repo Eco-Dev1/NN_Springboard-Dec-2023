{
 "cells": [
  {
   "cell_type": "code",
   "execution_count": 17,
   "id": "15d0f686-e3e3-42d9-bd48-f5638fd57660",
   "metadata": {},
   "outputs": [],
   "source": [
    "import pandas as pd\n",
    "import json\n",
    "import numpy as np\n",
    "import requests\n",
    "import matplotlib.pyplot as plt\n",
    "import seaborn as sns\n",
    "import sys"
   ]
  },
  {
   "cell_type": "code",
   "execution_count": 19,
   "id": "324214e4-4038-4024-b7af-fafb7e5121ac",
   "metadata": {},
   "outputs": [
    {
     "name": "stdout",
     "output_type": "stream",
     "text": [
      "3.11.5 | packaged by Anaconda, Inc. | (main, Sep 11 2023, 13:26:23) [MSC v.1916 64 bit (AMD64)]\n"
     ]
    }
   ],
   "source": [
    "print(sys.version)"
   ]
  },
  {
   "cell_type": "code",
   "execution_count": 21,
   "id": "3a40dad3-75ae-4717-ad4f-ff2e85ec098a",
   "metadata": {},
   "outputs": [
    {
     "name": "stdout",
     "output_type": "stream",
     "text": [
      "C:\\Users\\Nigel\\anaconda3\\python.exe\n"
     ]
    }
   ],
   "source": [
    "print(sys.executable)"
   ]
  },
  {
   "cell_type": "code",
   "execution_count": null,
   "id": "a06a5c5b-966f-4eea-8833-f077136fa969",
   "metadata": {},
   "outputs": [],
   "source": [
    "# Option 1: Using conda (recommended if you're using Anaconda)\n",
    "!conda update bottleneck -y\n",
    "\n",
    "# Option 2: Using pip (alternative method)\n",
    "!pip install --upgrade bottleneck\n",
    "\n",
    "# After updating, you can verify the installed version\n",
    "import bottleneck\n",
    "print(f\"Bottleneck version: {bottleneck.__version__}\")"
   ]
  },
  {
   "cell_type": "code",
   "execution_count": null,
   "id": "9ec7c6c2-0880-4fe2-9354-cc3f795e415a",
   "metadata": {},
   "outputs": [],
   "source": [
    "#API usage for Our World In Data (OWID) listed at https://docs.owid.io/projects/etl/api/example-usage/#overview\n",
    "!pip install owid-catalog"
   ]
  },
  {
   "cell_type": "code",
   "execution_count": null,
   "id": "7ae681d6-4b76-43e6-beeb-12c2bb9bae96",
   "metadata": {},
   "outputs": [],
   "source": [
    "from owid import catalog"
   ]
  },
  {
   "cell_type": "code",
   "execution_count": null,
   "id": "b3b16f45-6395-4704-88ad-7229b193b37f",
   "metadata": {},
   "outputs": [],
   "source": [
    "# name urls, datasets and dataframes Datasets under consideration are as follows:\n",
    "#1) Share of land covered by forest (forest-area-as-share-of-land-area.csv)\n",
    "#https://ourworldindata.org/grapher/forest-area-as-share-of-land-area\n",
    "\n",
    "#2) Distribution of population by poverty level ( distribution-of-population-between-different-poverty-thresholds-up-to-30-dollars.csv)\n",
    "#https://ourworldindata.org/grapher/distribution-of-population-between-different-poverty-thresholds-up-to-30-dollars\n",
    "\n",
    "#Depending on findings, additional data sets may be used to explore the nature and commerce of the forests under consideration. These include:\n",
    "\n",
    "#3) Planted vs Naturally regenerating forest (forest-area-primary-planted.csv)\n",
    "#https://ourworldindata.org/forest-area \n",
    "#4) Share of Deforestation that is exported. The share of deforestation is driven by the production of goods that are exported to other countries. (share-deforestation-exported.csv)\n",
    "#https://ourworldindata.org/grapher/share-deforestation-exported?time=2005&facet=none\n",
    "\n",
    "#Api instructions as follows:  from owid.catalog import charts\n",
    "\n",
    "# get the data for one chart by URL\n",
    "#df = charts.get_data('https://ourworldindata.org/grapher/life-expectancy')\n",
    "\n",
    "#Use the API instructions to get the dataframes\n",
    "forest_share_df = charts.get_data('https://ourworldindata.org/grapher/forest-area-as-share-of-land-area')\n",
    "poverty_level_df = charts.get_data('https://ourworldindata.org/grapher/distribution-of-population-between-different-poverty-thresholds-up-to-30-dollars')\n",
    "planted_vs_natural_df = charts.get_data('https://ourworldindata.org/forest-area')\n",
    "deforestation_export_df =charts.get_data('https://ourworldindata.org/grapher/share-deforestation-exported?time=2005&facet=none')\n",
    "\n"
   ]
  },
  {
   "cell_type": "code",
   "execution_count": null,
   "id": "ba0f523c-73fe-4288-82e4-e8a523b592b6",
   "metadata": {},
   "outputs": [],
   "source": [
    "# Inspect the first few rows to understand its structure\n",
    "print(forest_share_df.head())\n",
    "print(poverty_level_df.head())\n",
    "print(planted_vs_natural_df.head())\n",
    "print(deforestation_export_df.head())"
   ]
  },
  {
   "cell_type": "code",
   "execution_count": null,
   "id": "785be707-ec6f-4c25-8c42-f13af740f11d",
   "metadata": {},
   "outputs": [],
   "source": [
    "# Example URL for a chart's CSV data \n",
    "url = 'https://ourworldindata.org/grapher/forest-area-as-share-of-land-area'\n",
    "\n",
    "# Send a GET request to fetch the CSV data\n",
    "response = requests.get(url)\n",
    "\n",
    "# Check if the request was successful\n",
    "if response.status_code == 200:\n",
    "    # Convert the CSV content into a pandas DataFrame\n",
    "    from io import StringIO\n",
    "    data = StringIO(response.text)  # Convert the CSV content into a string buffer\n",
    "    df = pd.read_csv(data)  # Read the CSV data into a pandas DataFrame\n",
    "\n",
    "    # Display the first few rows of the DataFrame\n",
    "    print(df.head())\n",
    "else:\n",
    "    print(f\"Failed to fetch data, status code: {response.status_code}\")"
   ]
  },
  {
   "cell_type": "code",
   "execution_count": null,
   "id": "30b2ec92-0ee4-4107-9bd7-07ec68a84ffa",
   "metadata": {},
   "outputs": [],
   "source": []
  }
 ],
 "metadata": {
  "kernelspec": {
   "display_name": "Python [conda env:base] *",
   "language": "python",
   "name": "conda-base-py"
  },
  "language_info": {
   "codemirror_mode": {
    "name": "ipython",
    "version": 3
   },
   "file_extension": ".py",
   "mimetype": "text/x-python",
   "name": "python",
   "nbconvert_exporter": "python",
   "pygments_lexer": "ipython3",
   "version": "3.11.5"
  }
 },
 "nbformat": 4,
 "nbformat_minor": 5
}
